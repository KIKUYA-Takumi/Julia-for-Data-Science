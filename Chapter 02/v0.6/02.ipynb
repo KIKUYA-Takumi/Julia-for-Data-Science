{
 "cells": [
  {
   "cell_type": "code",
   "execution_count": null,
   "metadata": {},
   "outputs": [],
   "source": [
    "Pkg.add(\"RDatasets\")\n"
   ]
  },
  {
   "cell_type": "code",
   "execution_count": 1,
   "metadata": {},
   "outputs": [
    {
     "data": {
      "text/html": [
       "<table class=\"data-frame\"><thead><tr><th></th><th>Name</th><th>Count</th><th>OS</th></tr></thead><tbody><tr><th>1</th><td>Ajava Rhodiumhi</td><td>14.04</td><td>Ubuntu</td></tr><tr><th>2</th><td>Las Hushjoin</td><td>17.3</td><td>Mint</td></tr></tbody></table>"
      ],
      "text/plain": [
       "2×3 DataFrames.DataFrame\n",
       "│ Row │ Name              │ Count │ OS       │\n",
       "├─────┼───────────────────┼───────┼──────────┤\n",
       "│ 1   │ \"Ajava Rhodiumhi\" │ 14.04 │ \"Ubuntu\" │\n",
       "│ 2   │ \"Las Hushjoin\"    │ 17.3  │ \"Mint\"   │"
      ]
     },
     "execution_count": 1,
     "metadata": {},
     "output_type": "execute_result"
    }
   ],
   "source": [
    "using DataFrames\n",
    "df = DataFrame(Name = [\"Ajava Rhodiumhi\", \"Las Hushjoin\"], Count = [14.04, 17.3], OS = [\"Ubuntu\", \"Mint\"])\n"
   ]
  },
  {
   "cell_type": "code",
   "execution_count": null,
   "metadata": {},
   "outputs": [],
   "source": []
  }
 ],
 "metadata": {
  "kernelspec": {
   "display_name": "Julia 0.6.0",
   "language": "julia",
   "name": "julia-0.6"
  },
  "language_info": {
   "file_extension": ".jl",
   "mimetype": "application/julia",
   "name": "julia",
   "version": "0.6.0"
  }
 },
 "nbformat": 4,
 "nbformat_minor": 2
}
