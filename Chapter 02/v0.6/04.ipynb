{
 "cells": [
  {
   "cell_type": "code",
   "execution_count": 1,
   "metadata": {},
   "outputs": [],
   "source": [
    "using DataFrames"
   ]
  },
  {
   "cell_type": "code",
   "execution_count": 2,
   "metadata": {},
   "outputs": [
    {
     "data": {
      "text/html": [
       "<table class=\"data-frame\"><thead><tr><th></th><th>X</th><th>Y</th></tr></thead><tbody><tr><th>1</th><td>1</td><td>Head</td></tr><tr><th>2</th><td>2</td><td>Tail</td></tr><tr><th>3</th><td>3</td><td>Head</td></tr><tr><th>4</th><td>4</td><td>Head</td></tr><tr><th>5</th><td>5</td><td>Tail</td></tr><tr><th>6</th><td>6</td><td>Head</td></tr><tr><th>7</th><td>7</td><td>Tail</td></tr><tr><th>8</th><td>8</td><td>Tail</td></tr><tr><th>9</th><td>9</td><td>Head</td></tr><tr><th>10</th><td>10</td><td>Tail</td></tr></tbody></table>"
      ],
      "text/plain": [
       "10×2 DataFrames.DataFrame\n",
       "│ Row │ X  │ Y      │\n",
       "├─────┼────┼────────┤\n",
       "│ 1   │ 1  │ \"Head\" │\n",
       "│ 2   │ 2  │ \"Tail\" │\n",
       "│ 3   │ 3  │ \"Head\" │\n",
       "│ 4   │ 4  │ \"Head\" │\n",
       "│ 5   │ 5  │ \"Tail\" │\n",
       "│ 6   │ 6  │ \"Head\" │\n",
       "│ 7   │ 7  │ \"Tail\" │\n",
       "│ 8   │ 8  │ \"Tail\" │\n",
       "│ 9   │ 9  │ \"Head\" │\n",
       "│ 10  │ 10 │ \"Tail\" │"
      ]
     },
     "execution_count": 2,
     "metadata": {},
     "output_type": "execute_result"
    }
   ],
   "source": [
    "df2 = DataFrame()\n",
    "df2[:X] = 1:10\n",
    "df2[:Y] = [\"Head\", \"Tail\", \"Head\", \"Head\", \"Tail\", \"Head\", \"Tail\", \"Tail\", \"Head\", \"Tail\"]\n",
    "df2"
   ]
  },
  {
   "cell_type": "code",
   "execution_count": 3,
   "metadata": {},
   "outputs": [
    {
     "data": {
      "text/plain": [
       "(10, 2)"
      ]
     },
     "execution_count": 3,
     "metadata": {},
     "output_type": "execute_result"
    }
   ],
   "source": [
    "size(df2)"
   ]
  },
  {
   "cell_type": "code",
   "execution_count": 4,
   "metadata": {},
   "outputs": [
    {
     "data": {
      "text/html": [
       "<table class=\"data-frame\"><thead><tr><th></th><th>X</th><th>Y</th></tr></thead><tbody><tr><th>1</th><td>1</td><td>Head</td></tr><tr><th>2</th><td>2</td><td>Tail</td></tr><tr><th>3</th><td>3</td><td>Head</td></tr><tr><th>4</th><td>4</td><td>Head</td></tr><tr><th>5</th><td>5</td><td>Tail</td></tr><tr><th>6</th><td>6</td><td>Head</td></tr></tbody></table>"
      ],
      "text/plain": [
       "6×2 DataFrames.DataFrame\n",
       "│ Row │ X │ Y      │\n",
       "├─────┼───┼────────┤\n",
       "│ 1   │ 1 │ \"Head\" │\n",
       "│ 2   │ 2 │ \"Tail\" │\n",
       "│ 3   │ 3 │ \"Head\" │\n",
       "│ 4   │ 4 │ \"Head\" │\n",
       "│ 5   │ 5 │ \"Tail\" │\n",
       "│ 6   │ 6 │ \"Head\" │"
      ]
     },
     "execution_count": 4,
     "metadata": {},
     "output_type": "execute_result"
    }
   ],
   "source": [
    "head(df2)"
   ]
  },
  {
   "cell_type": "code",
   "execution_count": 5,
   "metadata": {},
   "outputs": [
    {
     "data": {
      "text/html": [
       "<table class=\"data-frame\"><thead><tr><th></th><th>X</th><th>Y</th></tr></thead><tbody><tr><th>1</th><td>5</td><td>Tail</td></tr><tr><th>2</th><td>6</td><td>Head</td></tr><tr><th>3</th><td>7</td><td>Tail</td></tr><tr><th>4</th><td>8</td><td>Tail</td></tr><tr><th>5</th><td>9</td><td>Head</td></tr><tr><th>6</th><td>10</td><td>Tail</td></tr></tbody></table>"
      ],
      "text/plain": [
       "6×2 DataFrames.DataFrame\n",
       "│ Row │ X  │ Y      │\n",
       "├─────┼────┼────────┤\n",
       "│ 1   │ 5  │ \"Tail\" │\n",
       "│ 2   │ 6  │ \"Head\" │\n",
       "│ 3   │ 7  │ \"Tail\" │\n",
       "│ 4   │ 8  │ \"Tail\" │\n",
       "│ 5   │ 9  │ \"Head\" │\n",
       "│ 6   │ 10 │ \"Tail\" │"
      ]
     },
     "execution_count": 5,
     "metadata": {},
     "output_type": "execute_result"
    }
   ],
   "source": [
    "tail(df2)"
   ]
  },
  {
   "cell_type": "code",
   "execution_count": 6,
   "metadata": {},
   "outputs": [
    {
     "name": "stdout",
     "output_type": "stream",
     "text": [
      "X\n",
      "Summary Stats:\n",
      "Mean:           5.500000\n",
      "Minimum:        1.000000\n",
      "1st Quartile:   3.250000\n",
      "Median:         5.500000\n",
      "3rd Quartile:   7.750000\n",
      "Maximum:        10.000000\n",
      "Length:         10\n",
      "Type:           Int64\n",
      "Number Missing: 0\n",
      "% Missing:      0.000000\n",
      "\n",
      "Y\n",
      "Summary Stats:\n",
      "Length:         10\n",
      "Type:           String\n",
      "Number Unique:  2\n",
      "Number Missing: 0\n",
      "% Missing:      0.000000\n",
      "\n"
     ]
    }
   ],
   "source": [
    "describe(df2)"
   ]
  }
 ],
 "metadata": {
  "kernelspec": {
   "display_name": "Julia 0.6.0",
   "language": "julia",
   "name": "julia-0.6"
  },
  "language_info": {
   "file_extension": ".jl",
   "mimetype": "application/julia",
   "name": "julia",
   "version": "0.6.0"
  }
 },
 "nbformat": 4,
 "nbformat_minor": 2
}
