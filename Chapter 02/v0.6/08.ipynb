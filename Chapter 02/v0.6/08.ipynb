{
 "cells": [
  {
   "cell_type": "code",
   "execution_count": 1,
   "metadata": {},
   "outputs": [],
   "source": [
    "using RDatasets\n",
    "using DataFrames"
   ]
  },
  {
   "cell_type": "code",
   "execution_count": 2,
   "metadata": {},
   "outputs": [
    {
     "data": {
      "text/html": [
       "<table class=\"data-frame\"><thead><tr><th></th><th>A</th><th>B</th><th>C</th></tr></thead><tbody><tr><th>1</th><td>0.3983522051037717</td><td>0.6071342351362985</td><td>-0.908528660891716</td></tr><tr><th>2</th><td>1.512705041405744</td><td>1.147951320708901</td><td>0.38025689441313804</td></tr><tr><th>3</th><td>0.7453253415674785</td><td>2.104194138047445</td><td>1.9663799623923646</td></tr><tr><th>4</th><td>-2.560358876503894</td><td>1.5642026657335784</td><td>-0.1913353646667056</td></tr><tr><th>5</th><td>-0.572453185102651</td><td>0.082469781601724</td><td>1.1338437061960989</td></tr></tbody></table>"
      ],
      "text/plain": [
       "5×3 DataFrames.DataFrame\n",
       "│ Row │ A         │ B         │ C         │\n",
       "├─────┼───────────┼───────────┼───────────┤\n",
       "│ 1   │ 0.398352  │ 0.607134  │ -0.908529 │\n",
       "│ 2   │ 1.51271   │ 1.14795   │ 0.380257  │\n",
       "│ 3   │ 0.745325  │ 2.10419   │ 1.96638   │\n",
       "│ 4   │ -2.56036  │ 1.5642    │ -0.191335 │\n",
       "│ 5   │ -0.572453 │ 0.0824698 │ 1.13384   │"
      ]
     },
     "execution_count": 2,
     "metadata": {},
     "output_type": "execute_result"
    }
   ],
   "source": [
    "random_dataframe = DataFrame(A = randn(5), B = randn(5), C = randn(5))\n"
   ]
  },
  {
   "cell_type": "code",
   "execution_count": 7,
   "metadata": {},
   "outputs": [
    {
     "data": {
      "text/plain": [
       "DataFrames.ModelFrame(5×3 DataFrames.DataFrame\n",
       "│ Row │ A         │ B         │ C         │\n",
       "├─────┼───────────┼───────────┼───────────┤\n",
       "│ 1   │ 0.398352  │ 0.607134  │ -0.908529 │\n",
       "│ 2   │ 1.51271   │ 1.14795   │ 0.380257  │\n",
       "│ 3   │ 0.745325  │ 2.10419   │ 1.96638   │\n",
       "│ 4   │ -2.56036  │ 1.5642    │ -0.191335 │\n",
       "│ 5   │ -0.572453 │ 0.0824698 │ 1.13384   │, DataFrames.Terms(Symbol[:B, :C], Symbol[:A, :B, :C], Bool[true false false; false true false; false false true], Bool[false false false; false false false; false false false], [1, 1, 1], true, true), Bool[true, true, true, true, true], Dict{Symbol,DataFrames.ContrastsMatrix}())"
      ]
     },
     "execution_count": 7,
     "metadata": {},
     "output_type": "execute_result"
    }
   ],
   "source": [
    "# Julia 0.6 Formula broken? #1176\n",
    "# https://github.com/JuliaData/DataFrames.jl/issues/1176#issuecomment-288289133\n",
    "random_modelframe = ModelFrame(@formula(A ~ B + C), random_dataframe)"
   ]
  },
  {
   "cell_type": "code",
   "execution_count": 10,
   "metadata": {},
   "outputs": [
    {
     "data": {
      "text/html": [
       "<table class=\"data-frame\"><thead><tr><th></th><th>A</th><th>B</th><th>C</th></tr></thead><tbody><tr><th>1</th><td>0.3983522051037717</td><td>0.6071342351362985</td><td>-0.908528660891716</td></tr><tr><th>2</th><td>1.512705041405744</td><td>1.147951320708901</td><td>0.38025689441313804</td></tr><tr><th>3</th><td>0.7453253415674785</td><td>2.104194138047445</td><td>1.9663799623923646</td></tr><tr><th>4</th><td>-2.560358876503894</td><td>1.5642026657335784</td><td>-0.1913353646667056</td></tr><tr><th>5</th><td>-0.572453185102651</td><td>0.082469781601724</td><td>1.1338437061960989</td></tr></tbody></table>"
      ],
      "text/plain": [
       "5×3 DataFrames.DataFrame\n",
       "│ Row │ A         │ B         │ C         │\n",
       "├─────┼───────────┼───────────┼───────────┤\n",
       "│ 1   │ 0.398352  │ 0.607134  │ -0.908529 │\n",
       "│ 2   │ 1.51271   │ 1.14795   │ 0.380257  │\n",
       "│ 3   │ 0.745325  │ 2.10419   │ 1.96638   │\n",
       "│ 4   │ -2.56036  │ 1.5642    │ -0.191335 │\n",
       "│ 5   │ -0.572453 │ 0.0824698 │ 1.13384   │"
      ]
     },
     "execution_count": 10,
     "metadata": {},
     "output_type": "execute_result"
    }
   ],
   "source": [
    "random_modelframe.df"
   ]
  },
  {
   "cell_type": "code",
   "execution_count": 5,
   "metadata": {},
   "outputs": [
    {
     "data": {
      "text/plain": [
       "DataFrames.ModelMatrix{Array{Float64,2}}([1.0 0.607134 -0.908529; 1.0 1.14795 0.380257; … ; 1.0 1.5642 -0.191335; 1.0 0.0824698 1.13384], [0, 1, 2])"
      ]
     },
     "execution_count": 5,
     "metadata": {},
     "output_type": "execute_result"
    }
   ],
   "source": [
    "random_modelmatrix = ModelMatrix(ModelFrame(@formula(A ~ B + C), random_dataframe))"
   ]
  },
  {
   "cell_type": "code",
   "execution_count": 17,
   "metadata": {},
   "outputs": [
    {
     "data": {
      "text/plain": [
       "5×3 Array{Float64,2}:\n",
       " 1.0  0.607134   -0.908529\n",
       " 1.0  1.14795     0.380257\n",
       " 1.0  2.10419     1.96638 \n",
       " 1.0  1.5642     -0.191335\n",
       " 1.0  0.0824698   1.13384 "
      ]
     },
     "execution_count": 17,
     "metadata": {},
     "output_type": "execute_result"
    }
   ],
   "source": [
    "random_modelmatrix.m"
   ]
  },
  {
   "cell_type": "code",
   "execution_count": 13,
   "metadata": {},
   "outputs": [
    {
     "data": {
      "text/plain": [
       "3×1 Array{Float64,2}:\n",
       " 0.231427\n",
       " 0.728669\n",
       " 0.856669"
      ]
     },
     "execution_count": 13,
     "metadata": {},
     "output_type": "execute_result"
    }
   ],
   "source": [
    "rand(3,1)"
   ]
  },
  {
   "cell_type": "code",
   "execution_count": 14,
   "metadata": {},
   "outputs": [
    {
     "data": {
      "text/plain": [
       "5×1 Array{Float64,2}:\n",
       " 0.538078\n",
       " 1.36943 \n",
       " 2.52574 \n",
       " 1.30131 \n",
       " 1.22251 "
      ]
     },
     "execution_count": 14,
     "metadata": {},
     "output_type": "execute_result"
    }
   ],
   "source": [
    "random_modelmatrix.m * rand(3,1)"
   ]
  },
  {
   "cell_type": "code",
   "execution_count": null,
   "metadata": {},
   "outputs": [],
   "source": [
    "# source from https://stackoverflow.com/questions/41473164/how-to-do-matrix-multiplication-with-modelmatrix-object-in-julia"
   ]
  }
 ],
 "metadata": {
  "kernelspec": {
   "display_name": "Julia 0.6.0",
   "language": "julia",
   "name": "julia-0.6"
  },
  "language_info": {
   "file_extension": ".jl",
   "mimetype": "application/julia",
   "name": "julia",
   "version": "0.6.0"
  }
 },
 "nbformat": 4,
 "nbformat_minor": 2
}
