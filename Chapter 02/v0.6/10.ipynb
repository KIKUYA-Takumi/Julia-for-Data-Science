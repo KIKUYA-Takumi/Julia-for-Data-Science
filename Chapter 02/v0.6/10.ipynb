{
 "cells": [
  {
   "cell_type": "code",
   "execution_count": 2,
   "metadata": {},
   "outputs": [
    {
     "name": "stderr",
     "output_type": "stream",
     "text": [
      "\u001b[1m\u001b[36mINFO: \u001b[39m\u001b[22m\u001b[36mCloning cache of BufferedStreams from https://github.com/BioJulia/BufferedStreams.jl.git\n",
      "\u001b[39m\u001b[1m\u001b[36mINFO: \u001b[39m\u001b[22m\u001b[36mCloning cache of Codecs from https://github.com/dcjones/Codecs.jl.git\n",
      "\u001b[39m\u001b[1m\u001b[36mINFO: \u001b[39m\u001b[22m\u001b[36mCloning cache of HttpCommon from https://github.com/JuliaWeb/HttpCommon.jl.git\n",
      "\u001b[39m\u001b[1m\u001b[36mINFO: \u001b[39m\u001b[22m\u001b[36mCloning cache of HttpParser from https://github.com/JuliaWeb/HttpParser.jl.git\n",
      "\u001b[39m\u001b[1m\u001b[36mINFO: \u001b[39m\u001b[22m\u001b[36mCloning cache of Libz from https://github.com/BioJulia/Libz.jl.git\n",
      "\u001b[39m\u001b[1m\u001b[36mINFO: \u001b[39m\u001b[22m\u001b[36mCloning cache of Requests from https://github.com/JuliaWeb/Requests.jl.git\n",
      "\u001b[39m\u001b[1m\u001b[36mINFO: \u001b[39m\u001b[22m\u001b[36mInstalling BufferedStreams v0.3.3\n",
      "\u001b[39m\u001b[1m\u001b[36mINFO: \u001b[39m\u001b[22m\u001b[36mInstalling Codecs v0.4.0\n",
      "\u001b[39m\u001b[1m\u001b[36mINFO: \u001b[39m\u001b[22m\u001b[36mInstalling HttpCommon v0.3.0\n",
      "\u001b[39m\u001b[1m\u001b[36mINFO: \u001b[39m\u001b[22m\u001b[36mInstalling HttpParser v0.3.0\n",
      "\u001b[39m\u001b[1m\u001b[36mINFO: \u001b[39m\u001b[22m\u001b[36mInstalling Libz v0.2.4\n",
      "\u001b[39m\u001b[1m\u001b[36mINFO: \u001b[39m\u001b[22m\u001b[36mInstalling Requests v0.5.1\n",
      "\u001b[39m\u001b[1m\u001b[36mINFO: \u001b[39m\u001b[22m\u001b[36mBuilding HttpParser\n",
      "\u001b[39m\u001b[1m\u001b[36mINFO: \u001b[39m\u001b[22m\u001b[36mAttempting to Create directory /root/.julia/v0.6/HttpParser/deps/downloads\n",
      "\u001b[39m\u001b[1m\u001b[36mINFO: \u001b[39m\u001b[22m\u001b[36mAttempting to Create directory /root/.julia/v0.6/HttpParser/deps/downloads\n",
      "\u001b[39m\u001b[1m\u001b[36mINFO: \u001b[39m\u001b[22m\u001b[36mDirectory /root/.julia/v0.6/HttpParser/deps/downloads already created\n",
      "\u001b[39m\u001b[1m\u001b[36mINFO: \u001b[39m\u001b[22m\u001b[36mDownloading file https://github.com/nodejs/http-parser/archive/v2.7.1.zip\n",
      "\u001b[39m  % Total    % Received % Xferd  Average Speed   Time    Time     Time  Current\n",
      "                                 Dload  Upload   Total   Spent    Left  Speed\n",
      "100   123    0   123    0     0    115      0 --:--:--  0:00:01 --:--:--   115\n",
      "100 55365  100 55365    0     0  20204      0  0:00:02  0:00:02 --:--:-- 53389\n",
      "\u001b[1m\u001b[36mINFO: \u001b[39m\u001b[22m\u001b[36mDone downloading file https://github.com/nodejs/http-parser/archive/v2.7.1.zip\n",
      "\u001b[39m\u001b[1m\u001b[36mINFO: \u001b[39m\u001b[22m\u001b[36mAttempting to Create directory /root/.julia/v0.6/HttpParser/deps\n",
      "\u001b[39m\u001b[1m\u001b[36mINFO: \u001b[39m\u001b[22m\u001b[36mDirectory /root/.julia/v0.6/HttpParser/deps already created\n",
      "\u001b[39m\u001b[1m\u001b[36mINFO: \u001b[39m\u001b[22m\u001b[36mAttempting to Create directory /root/.julia/v0.6/HttpParser/deps/usr/lib\n",
      "\u001b[39m\u001b[1m\u001b[36mINFO: \u001b[39m\u001b[22m\u001b[36mChanging Directory to /root/.julia/v0.6/HttpParser/deps/src/http-parser-2.7.1\n",
      "\u001b[39m\u001b[1m\u001b[36mINFO: \u001b[39m\u001b[22m\u001b[36mChanging Directory to /root/.julia/v0.6/HttpParser/deps/src/http-parser-2.7.1\n",
      "\u001b[39m\u001b[1m\u001b[36mINFO: \u001b[39m\u001b[22m\u001b[36mChanging Directory to /root/.julia/v0.6/HttpParser/deps/src\n",
      "\u001b[39m\u001b[1m\u001b[36mINFO: \u001b[39m\u001b[22m\u001b[36mAttempting to Create directory /root/.julia/v0.6/HttpParser/deps/usr/lib\n",
      "\u001b[39m\u001b[1m\u001b[36mINFO: \u001b[39m\u001b[22m\u001b[36mDirectory /root/.julia/v0.6/HttpParser/deps/usr/lib already created\n",
      "\u001b[39m\u001b[1m\u001b[36mINFO: \u001b[39m\u001b[22m\u001b[36mChanging Directory to /root/.julia/v0.6/HttpParser/deps/src\n",
      "\u001b[39m\u001b[1m\u001b[36mINFO: \u001b[39m\u001b[22m\u001b[36mChanging Directory to /root/.julia/v0.6/HttpParser/deps/src\n",
      "\u001b[39m\u001b[1m\u001b[36mINFO: \u001b[39m\u001b[22m\u001b[36mBuilding MbedTLS\n",
      "\u001b[39m\u001b[1m\u001b[36mINFO: \u001b[39m\u001b[22m\u001b[36mPackage database updated\n",
      "\u001b[39m\u001b[1m\u001b[36mINFO: \u001b[39m\u001b[22m\u001b[36mPrecompiling module Requests.\n",
      "\u001b[39m"
     ]
    }
   ],
   "source": [
    "Pkg.add(\"Requests\")\n",
    "using JSON, Requests"
   ]
  },
  {
   "cell_type": "code",
   "execution_count": 3,
   "metadata": {},
   "outputs": [
    {
     "data": {
      "text/plain": [
       "Response(200 OK, 25 headers, 63584 bytes in body)"
      ]
     },
     "execution_count": 3,
     "metadata": {},
     "output_type": "execute_result"
    }
   ],
   "source": [
    "reddit_url = \"https://www.reddit.com/r/Julia/\"\n",
    "response = get(\"$(reddit_url)/.json\")"
   ]
  },
  {
   "cell_type": "code",
   "execution_count": 4,
   "metadata": {},
   "outputs": [
    {
     "data": {
      "text/plain": [
       "26"
      ]
     },
     "execution_count": 4,
     "metadata": {},
     "output_type": "execute_result"
    }
   ],
   "source": [
    "dataReceived = JSON.parse(Requests.text(response))\n",
    "nextRecord = dataReceived[\"data\"][\"after\"]\n",
    "counter = length(dataReceived[\"data\"][\"children\"])"
   ]
  },
  {
   "cell_type": "code",
   "execution_count": 5,
   "metadata": {},
   "outputs": [],
   "source": [
    "allPosts = []\n",
    "for record in 1:counter\n",
    "    url = dataReceived[\"data\"][\"children\"][record][\"data\"][\"url\"]\n",
    "    redditrecord_id  = dataReceived[\"data\"][\"children\"][record][\"data\"][\"id\"]\n",
    "    redditrecord_title  = dataReceived[\"data\"][\"children\"][record][\"data\"][\"title\"]\n",
    "    author  = dataReceived[\"data\"][\"children\"][record][\"data\"][\"author\"]\n",
    "    created = dataReceived[\"data\"][\"children\"][record][\"data\"][\"created\"]\n",
    "    push!(allPosts, (url, redditrecord_id, redditrecord_title, author, created))\n",
    "end"
   ]
  },
  {
   "cell_type": "code",
   "execution_count": 6,
   "metadata": {},
   "outputs": [
    {
     "name": "stdout",
     "output_type": "stream",
     "text": [
      "The JuliaCon 2017 videos have landed!\n",
      "Could I get some opinions on another user's comments about Julia macros?\n",
      "DifferentialEquations.jl 3.0 and a Roadmap for 4.0\n",
      "Ccall with Fortran shared libraries and ReadOnlyMemoryError\n",
      "High-Performance GPU Computing in the Julia Programming Language (nvidia.com)\n",
      "Functions vs. macros\n",
      "What text editors do you use?\n",
      "Simulink alternative for julia\n",
      "Execute a function with a timeout / time limit?\n",
      "Logic programming question from a newbie\n",
      "Sylvia – A simple symbolic library with a pretty name\n",
      "What language should I use when teaching an undergraduate course in computer programming?\n",
      "What are you working on? [Oct. 22]\n",
      "ELI5: How is Julia so fast?\n",
      "Delete elements of a vector and assign to a new variable\n",
      "Is the Requests package thread safe?\n",
      "The famous TSP in Julia. A simple tutorial\n",
      "Mustache – Port of mustache.js to julia\n",
      "Julia Jupyter Notebooks for an Intro to Optimization Class\n",
      "Switching from Common Lisp to Julia\n",
      "ProgressMeter – Progress meter for long-running computations\n",
      "Newbie question: type declarations and matrix product\n",
      "I Like Julia Because It Scales and Is Productive: Some Insights From A Julia Developer\n",
      "After initial enthusiasm, I'm starting to realize that Julia is not that great for general-purpose programming\n",
      "How do I apply function along certain dimension?\n",
      "TextAnalysis package seems to not work\n"
     ]
    }
   ],
   "source": [
    "for post in allPosts\n",
    "    println(post[3])\n",
    "end"
   ]
  },
  {
   "cell_type": "code",
   "execution_count": null,
   "metadata": {},
   "outputs": [],
   "source": []
  }
 ],
 "metadata": {
  "kernelspec": {
   "display_name": "Julia 0.6.0",
   "language": "julia",
   "name": "julia-0.6"
  },
  "language_info": {
   "file_extension": ".jl",
   "mimetype": "application/julia",
   "name": "julia",
   "version": "0.6.0"
  }
 },
 "nbformat": 4,
 "nbformat_minor": 2
}
