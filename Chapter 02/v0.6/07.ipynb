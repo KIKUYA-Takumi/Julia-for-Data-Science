{
 "cells": [
  {
   "cell_type": "code",
   "execution_count": 3,
   "metadata": {},
   "outputs": [],
   "source": [
    "using DataFrames, RDatasets\n"
   ]
  },
  {
   "cell_type": "code",
   "execution_count": 6,
   "metadata": {},
   "outputs": [
    {
     "data": {
      "text/html": [
       "<table class=\"data-frame\"><thead><tr><th></th><th>SepalLength</th><th>SepalWidth</th><th>PetalLength</th><th>PetalWidth</th><th>Species</th></tr></thead><tbody><tr><th>1</th><td>5.1</td><td>3.5</td><td>1.4</td><td>0.2</td><td>setosa</td></tr><tr><th>2</th><td>4.9</td><td>3.0</td><td>1.4</td><td>0.2</td><td>setosa</td></tr><tr><th>3</th><td>4.7</td><td>3.2</td><td>1.3</td><td>0.2</td><td>setosa</td></tr><tr><th>4</th><td>4.6</td><td>3.1</td><td>1.5</td><td>0.2</td><td>setosa</td></tr><tr><th>5</th><td>5.0</td><td>3.6</td><td>1.4</td><td>0.2</td><td>setosa</td></tr><tr><th>6</th><td>5.4</td><td>3.9</td><td>1.7</td><td>0.4</td><td>setosa</td></tr><tr><th>7</th><td>4.6</td><td>3.4</td><td>1.4</td><td>0.3</td><td>setosa</td></tr><tr><th>8</th><td>5.0</td><td>3.4</td><td>1.5</td><td>0.2</td><td>setosa</td></tr><tr><th>9</th><td>4.4</td><td>2.9</td><td>1.4</td><td>0.2</td><td>setosa</td></tr><tr><th>10</th><td>4.9</td><td>3.1</td><td>1.5</td><td>0.1</td><td>setosa</td></tr><tr><th>11</th><td>5.4</td><td>3.7</td><td>1.5</td><td>0.2</td><td>setosa</td></tr><tr><th>12</th><td>4.8</td><td>3.4</td><td>1.6</td><td>0.2</td><td>setosa</td></tr><tr><th>13</th><td>4.8</td><td>3.0</td><td>1.4</td><td>0.1</td><td>setosa</td></tr><tr><th>14</th><td>4.3</td><td>3.0</td><td>1.1</td><td>0.1</td><td>setosa</td></tr><tr><th>15</th><td>5.8</td><td>4.0</td><td>1.2</td><td>0.2</td><td>setosa</td></tr><tr><th>16</th><td>5.7</td><td>4.4</td><td>1.5</td><td>0.4</td><td>setosa</td></tr><tr><th>17</th><td>5.4</td><td>3.9</td><td>1.3</td><td>0.4</td><td>setosa</td></tr><tr><th>18</th><td>5.1</td><td>3.5</td><td>1.4</td><td>0.3</td><td>setosa</td></tr><tr><th>19</th><td>5.7</td><td>3.8</td><td>1.7</td><td>0.3</td><td>setosa</td></tr><tr><th>20</th><td>5.1</td><td>3.8</td><td>1.5</td><td>0.3</td><td>setosa</td></tr><tr><th>21</th><td>5.4</td><td>3.4</td><td>1.7</td><td>0.2</td><td>setosa</td></tr><tr><th>22</th><td>5.1</td><td>3.7</td><td>1.5</td><td>0.4</td><td>setosa</td></tr><tr><th>23</th><td>4.6</td><td>3.6</td><td>1.0</td><td>0.2</td><td>setosa</td></tr><tr><th>24</th><td>5.1</td><td>3.3</td><td>1.7</td><td>0.5</td><td>setosa</td></tr><tr><th>25</th><td>4.8</td><td>3.4</td><td>1.9</td><td>0.2</td><td>setosa</td></tr><tr><th>26</th><td>5.0</td><td>3.0</td><td>1.6</td><td>0.2</td><td>setosa</td></tr><tr><th>27</th><td>5.0</td><td>3.4</td><td>1.6</td><td>0.4</td><td>setosa</td></tr><tr><th>28</th><td>5.2</td><td>3.5</td><td>1.5</td><td>0.2</td><td>setosa</td></tr><tr><th>29</th><td>5.2</td><td>3.4</td><td>1.4</td><td>0.2</td><td>setosa</td></tr><tr><th>30</th><td>4.7</td><td>3.2</td><td>1.6</td><td>0.2</td><td>setosa</td></tr><tr><th>&vellip;</th><td>&vellip;</td><td>&vellip;</td><td>&vellip;</td><td>&vellip;</td><td>&vellip;</td></tr></tbody></table>"
      ],
      "text/plain": [
       "150×5 DataFrames.DataFrame\n",
       "│ Row │ SepalLength │ SepalWidth │ PetalLength │ PetalWidth │ Species     │\n",
       "├─────┼─────────────┼────────────┼─────────────┼────────────┼─────────────┤\n",
       "│ 1   │ 5.1         │ 3.5        │ 1.4         │ 0.2        │ \"setosa\"    │\n",
       "│ 2   │ 4.9         │ 3.0        │ 1.4         │ 0.2        │ \"setosa\"    │\n",
       "│ 3   │ 4.7         │ 3.2        │ 1.3         │ 0.2        │ \"setosa\"    │\n",
       "│ 4   │ 4.6         │ 3.1        │ 1.5         │ 0.2        │ \"setosa\"    │\n",
       "│ 5   │ 5.0         │ 3.6        │ 1.4         │ 0.2        │ \"setosa\"    │\n",
       "│ 6   │ 5.4         │ 3.9        │ 1.7         │ 0.4        │ \"setosa\"    │\n",
       "│ 7   │ 4.6         │ 3.4        │ 1.4         │ 0.3        │ \"setosa\"    │\n",
       "│ 8   │ 5.0         │ 3.4        │ 1.5         │ 0.2        │ \"setosa\"    │\n",
       "│ 9   │ 4.4         │ 2.9        │ 1.4         │ 0.2        │ \"setosa\"    │\n",
       "│ 10  │ 4.9         │ 3.1        │ 1.5         │ 0.1        │ \"setosa\"    │\n",
       "│ 11  │ 5.4         │ 3.7        │ 1.5         │ 0.2        │ \"setosa\"    │\n",
       "⋮\n",
       "│ 139 │ 6.0         │ 3.0        │ 4.8         │ 1.8        │ \"virginica\" │\n",
       "│ 140 │ 6.9         │ 3.1        │ 5.4         │ 2.1        │ \"virginica\" │\n",
       "│ 141 │ 6.7         │ 3.1        │ 5.6         │ 2.4        │ \"virginica\" │\n",
       "│ 142 │ 6.9         │ 3.1        │ 5.1         │ 2.3        │ \"virginica\" │\n",
       "│ 143 │ 5.8         │ 2.7        │ 5.1         │ 1.9        │ \"virginica\" │\n",
       "│ 144 │ 6.8         │ 3.2        │ 5.9         │ 2.3        │ \"virginica\" │\n",
       "│ 145 │ 6.7         │ 3.3        │ 5.7         │ 2.5        │ \"virginica\" │\n",
       "│ 146 │ 6.7         │ 3.0        │ 5.2         │ 2.3        │ \"virginica\" │\n",
       "│ 147 │ 6.3         │ 2.5        │ 5.0         │ 1.9        │ \"virginica\" │\n",
       "│ 148 │ 6.5         │ 3.0        │ 5.2         │ 2.0        │ \"virginica\" │\n",
       "│ 149 │ 6.2         │ 3.4        │ 5.4         │ 2.3        │ \"virginica\" │\n",
       "│ 150 │ 5.9         │ 3.0        │ 5.1         │ 1.8        │ \"virginica\" │"
      ]
     },
     "execution_count": 6,
     "metadata": {},
     "output_type": "execute_result"
    }
   ],
   "source": [
    "iris_dataframe = dataset(\"datasets\", \"iris\")\n"
   ]
  },
  {
   "cell_type": "code",
   "execution_count": 8,
   "metadata": {},
   "outputs": [
    {
     "data": {
      "text/plain": [
       "1:150"
      ]
     },
     "execution_count": 8,
     "metadata": {},
     "output_type": "execute_result"
    }
   ],
   "source": [
    "iris_dataframe[:id] = 1:size(iris_dataframe, 1)"
   ]
  },
  {
   "cell_type": "code",
   "execution_count": 16,
   "metadata": {},
   "outputs": [
    {
     "data": {
      "text/html": [
       "<table class=\"data-frame\"><thead><tr><th></th><th>variable</th><th>value</th></tr></thead><tbody><tr><th>1</th><td>SepalLength</td><td>5.1</td></tr><tr><th>2</th><td>SepalLength</td><td>4.9</td></tr><tr><th>3</th><td>SepalLength</td><td>4.7</td></tr><tr><th>4</th><td>SepalLength</td><td>4.6</td></tr><tr><th>5</th><td>SepalLength</td><td>5.0</td></tr><tr><th>6</th><td>SepalLength</td><td>5.4</td></tr><tr><th>7</th><td>SepalLength</td><td>4.6</td></tr><tr><th>8</th><td>SepalLength</td><td>5.0</td></tr><tr><th>9</th><td>SepalLength</td><td>4.4</td></tr><tr><th>10</th><td>SepalLength</td><td>4.9</td></tr><tr><th>11</th><td>SepalLength</td><td>5.4</td></tr><tr><th>12</th><td>SepalLength</td><td>4.8</td></tr><tr><th>13</th><td>SepalLength</td><td>4.8</td></tr><tr><th>14</th><td>SepalLength</td><td>4.3</td></tr><tr><th>15</th><td>SepalLength</td><td>5.8</td></tr><tr><th>16</th><td>SepalLength</td><td>5.7</td></tr><tr><th>17</th><td>SepalLength</td><td>5.4</td></tr><tr><th>18</th><td>SepalLength</td><td>5.1</td></tr><tr><th>19</th><td>SepalLength</td><td>5.7</td></tr><tr><th>20</th><td>SepalLength</td><td>5.1</td></tr><tr><th>21</th><td>SepalLength</td><td>5.4</td></tr><tr><th>22</th><td>SepalLength</td><td>5.1</td></tr><tr><th>23</th><td>SepalLength</td><td>4.6</td></tr><tr><th>24</th><td>SepalLength</td><td>5.1</td></tr><tr><th>25</th><td>SepalLength</td><td>4.8</td></tr><tr><th>26</th><td>SepalLength</td><td>5.0</td></tr><tr><th>27</th><td>SepalLength</td><td>5.0</td></tr><tr><th>28</th><td>SepalLength</td><td>5.2</td></tr><tr><th>29</th><td>SepalLength</td><td>5.2</td></tr><tr><th>30</th><td>SepalLength</td><td>4.7</td></tr><tr><th>&vellip;</th><td>&vellip;</td><td>&vellip;</td></tr></tbody></table>"
      ],
      "text/plain": [
       "600×2 DataFrames.DataFrame\n",
       "│ Row │ variable    │ value │\n",
       "├─────┼─────────────┼───────┤\n",
       "│ 1   │ SepalLength │ 5.1   │\n",
       "│ 2   │ SepalLength │ 4.9   │\n",
       "│ 3   │ SepalLength │ 4.7   │\n",
       "│ 4   │ SepalLength │ 4.6   │\n",
       "│ 5   │ SepalLength │ 5.0   │\n",
       "│ 6   │ SepalLength │ 5.4   │\n",
       "│ 7   │ SepalLength │ 4.6   │\n",
       "│ 8   │ SepalLength │ 5.0   │\n",
       "│ 9   │ SepalLength │ 4.4   │\n",
       "│ 10  │ SepalLength │ 4.9   │\n",
       "│ 11  │ SepalLength │ 5.4   │\n",
       "⋮\n",
       "│ 589 │ PetalWidth  │ 1.8   │\n",
       "│ 590 │ PetalWidth  │ 2.1   │\n",
       "│ 591 │ PetalWidth  │ 2.4   │\n",
       "│ 592 │ PetalWidth  │ 2.3   │\n",
       "│ 593 │ PetalWidth  │ 1.9   │\n",
       "│ 594 │ PetalWidth  │ 2.3   │\n",
       "│ 595 │ PetalWidth  │ 2.5   │\n",
       "│ 596 │ PetalWidth  │ 2.3   │\n",
       "│ 597 │ PetalWidth  │ 1.9   │\n",
       "│ 598 │ PetalWidth  │ 2.0   │\n",
       "│ 599 │ PetalWidth  │ 2.3   │\n",
       "│ 600 │ PetalWidth  │ 1.8   │"
      ]
     },
     "execution_count": 16,
     "metadata": {},
     "output_type": "execute_result"
    }
   ],
   "source": [
    "iris_stack = stack(iris_dataframe[1:4])"
   ]
  },
  {
   "cell_type": "code",
   "execution_count": 17,
   "metadata": {},
   "outputs": [
    {
     "data": {
      "text/html": [
       "<table class=\"data-frame\"><thead><tr><th></th><th>variable</th><th>value</th><th>Species</th></tr></thead><tbody><tr><th>1</th><td>PetalLength</td><td>1.4</td><td>setosa</td></tr><tr><th>2</th><td>PetalLength</td><td>1.4</td><td>setosa</td></tr><tr><th>3</th><td>PetalLength</td><td>1.3</td><td>setosa</td></tr><tr><th>4</th><td>PetalLength</td><td>1.5</td><td>setosa</td></tr><tr><th>5</th><td>PetalLength</td><td>1.4</td><td>setosa</td></tr><tr><th>6</th><td>PetalLength</td><td>1.7</td><td>setosa</td></tr><tr><th>7</th><td>PetalLength</td><td>1.4</td><td>setosa</td></tr><tr><th>8</th><td>PetalLength</td><td>1.5</td><td>setosa</td></tr><tr><th>9</th><td>PetalLength</td><td>1.4</td><td>setosa</td></tr><tr><th>10</th><td>PetalLength</td><td>1.5</td><td>setosa</td></tr><tr><th>11</th><td>PetalLength</td><td>1.5</td><td>setosa</td></tr><tr><th>12</th><td>PetalLength</td><td>1.6</td><td>setosa</td></tr><tr><th>13</th><td>PetalLength</td><td>1.4</td><td>setosa</td></tr><tr><th>14</th><td>PetalLength</td><td>1.1</td><td>setosa</td></tr><tr><th>15</th><td>PetalLength</td><td>1.2</td><td>setosa</td></tr><tr><th>16</th><td>PetalLength</td><td>1.5</td><td>setosa</td></tr><tr><th>17</th><td>PetalLength</td><td>1.3</td><td>setosa</td></tr><tr><th>18</th><td>PetalLength</td><td>1.4</td><td>setosa</td></tr><tr><th>19</th><td>PetalLength</td><td>1.7</td><td>setosa</td></tr><tr><th>20</th><td>PetalLength</td><td>1.5</td><td>setosa</td></tr><tr><th>21</th><td>PetalLength</td><td>1.7</td><td>setosa</td></tr><tr><th>22</th><td>PetalLength</td><td>1.5</td><td>setosa</td></tr><tr><th>23</th><td>PetalLength</td><td>1.0</td><td>setosa</td></tr><tr><th>24</th><td>PetalLength</td><td>1.7</td><td>setosa</td></tr><tr><th>25</th><td>PetalLength</td><td>1.9</td><td>setosa</td></tr><tr><th>26</th><td>PetalLength</td><td>1.6</td><td>setosa</td></tr><tr><th>27</th><td>PetalLength</td><td>1.6</td><td>setosa</td></tr><tr><th>28</th><td>PetalLength</td><td>1.5</td><td>setosa</td></tr><tr><th>29</th><td>PetalLength</td><td>1.4</td><td>setosa</td></tr><tr><th>30</th><td>PetalLength</td><td>1.6</td><td>setosa</td></tr><tr><th>&vellip;</th><td>&vellip;</td><td>&vellip;</td><td>&vellip;</td></tr></tbody></table>"
      ],
      "text/plain": [
       "300×3 DataFrames.DataFrame\n",
       "│ Row │ variable    │ value │ Species     │\n",
       "├─────┼─────────────┼───────┼─────────────┤\n",
       "│ 1   │ PetalLength │ 1.4   │ \"setosa\"    │\n",
       "│ 2   │ PetalLength │ 1.4   │ \"setosa\"    │\n",
       "│ 3   │ PetalLength │ 1.3   │ \"setosa\"    │\n",
       "│ 4   │ PetalLength │ 1.5   │ \"setosa\"    │\n",
       "│ 5   │ PetalLength │ 1.4   │ \"setosa\"    │\n",
       "│ 6   │ PetalLength │ 1.7   │ \"setosa\"    │\n",
       "│ 7   │ PetalLength │ 1.4   │ \"setosa\"    │\n",
       "│ 8   │ PetalLength │ 1.5   │ \"setosa\"    │\n",
       "│ 9   │ PetalLength │ 1.4   │ \"setosa\"    │\n",
       "│ 10  │ PetalLength │ 1.5   │ \"setosa\"    │\n",
       "│ 11  │ PetalLength │ 1.5   │ \"setosa\"    │\n",
       "⋮\n",
       "│ 289 │ PetalWidth  │ 1.8   │ \"virginica\" │\n",
       "│ 290 │ PetalWidth  │ 2.1   │ \"virginica\" │\n",
       "│ 291 │ PetalWidth  │ 2.4   │ \"virginica\" │\n",
       "│ 292 │ PetalWidth  │ 2.3   │ \"virginica\" │\n",
       "│ 293 │ PetalWidth  │ 1.9   │ \"virginica\" │\n",
       "│ 294 │ PetalWidth  │ 2.3   │ \"virginica\" │\n",
       "│ 295 │ PetalWidth  │ 2.5   │ \"virginica\" │\n",
       "│ 296 │ PetalWidth  │ 2.3   │ \"virginica\" │\n",
       "│ 297 │ PetalWidth  │ 1.9   │ \"virginica\" │\n",
       "│ 298 │ PetalWidth  │ 2.0   │ \"virginica\" │\n",
       "│ 299 │ PetalWidth  │ 2.3   │ \"virginica\" │\n",
       "│ 300 │ PetalWidth  │ 1.8   │ \"virginica\" │"
      ]
     },
     "execution_count": 17,
     "metadata": {},
     "output_type": "execute_result"
    }
   ],
   "source": [
    "iris_stack_petal = stack(iris_dataframe, [:PetalLength, :PetalWidth], :Species)"
   ]
  },
  {
   "cell_type": "code",
   "execution_count": 18,
   "metadata": {},
   "outputs": [
    {
     "data": {
      "text/html": [
       "<table class=\"data-frame\"><thead><tr><th></th><th>variable</th><th>value</th><th>Species</th></tr></thead><tbody><tr><th>1</th><td>SepalLength</td><td>5.1</td><td>setosa</td></tr><tr><th>2</th><td>SepalLength</td><td>4.9</td><td>setosa</td></tr><tr><th>3</th><td>SepalLength</td><td>4.7</td><td>setosa</td></tr><tr><th>4</th><td>SepalLength</td><td>4.6</td><td>setosa</td></tr><tr><th>5</th><td>SepalLength</td><td>5.0</td><td>setosa</td></tr><tr><th>6</th><td>SepalLength</td><td>5.4</td><td>setosa</td></tr><tr><th>7</th><td>SepalLength</td><td>4.6</td><td>setosa</td></tr><tr><th>8</th><td>SepalLength</td><td>5.0</td><td>setosa</td></tr><tr><th>9</th><td>SepalLength</td><td>4.4</td><td>setosa</td></tr><tr><th>10</th><td>SepalLength</td><td>4.9</td><td>setosa</td></tr><tr><th>11</th><td>SepalLength</td><td>5.4</td><td>setosa</td></tr><tr><th>12</th><td>SepalLength</td><td>4.8</td><td>setosa</td></tr><tr><th>13</th><td>SepalLength</td><td>4.8</td><td>setosa</td></tr><tr><th>14</th><td>SepalLength</td><td>4.3</td><td>setosa</td></tr><tr><th>15</th><td>SepalLength</td><td>5.8</td><td>setosa</td></tr><tr><th>16</th><td>SepalLength</td><td>5.7</td><td>setosa</td></tr><tr><th>17</th><td>SepalLength</td><td>5.4</td><td>setosa</td></tr><tr><th>18</th><td>SepalLength</td><td>5.1</td><td>setosa</td></tr><tr><th>19</th><td>SepalLength</td><td>5.7</td><td>setosa</td></tr><tr><th>20</th><td>SepalLength</td><td>5.1</td><td>setosa</td></tr><tr><th>21</th><td>SepalLength</td><td>5.4</td><td>setosa</td></tr><tr><th>22</th><td>SepalLength</td><td>5.1</td><td>setosa</td></tr><tr><th>23</th><td>SepalLength</td><td>4.6</td><td>setosa</td></tr><tr><th>24</th><td>SepalLength</td><td>5.1</td><td>setosa</td></tr><tr><th>25</th><td>SepalLength</td><td>4.8</td><td>setosa</td></tr><tr><th>26</th><td>SepalLength</td><td>5.0</td><td>setosa</td></tr><tr><th>27</th><td>SepalLength</td><td>5.0</td><td>setosa</td></tr><tr><th>28</th><td>SepalLength</td><td>5.2</td><td>setosa</td></tr><tr><th>29</th><td>SepalLength</td><td>5.2</td><td>setosa</td></tr><tr><th>30</th><td>SepalLength</td><td>4.7</td><td>setosa</td></tr><tr><th>&vellip;</th><td>&vellip;</td><td>&vellip;</td><td>&vellip;</td></tr></tbody></table>"
      ],
      "text/plain": [
       "750×3 DataFrames.DataFrame\n",
       "│ Row │ variable    │ value │ Species     │\n",
       "├─────┼─────────────┼───────┼─────────────┤\n",
       "│ 1   │ SepalLength │ 5.1   │ \"setosa\"    │\n",
       "│ 2   │ SepalLength │ 4.9   │ \"setosa\"    │\n",
       "│ 3   │ SepalLength │ 4.7   │ \"setosa\"    │\n",
       "│ 4   │ SepalLength │ 4.6   │ \"setosa\"    │\n",
       "│ 5   │ SepalLength │ 5.0   │ \"setosa\"    │\n",
       "│ 6   │ SepalLength │ 5.4   │ \"setosa\"    │\n",
       "│ 7   │ SepalLength │ 4.6   │ \"setosa\"    │\n",
       "│ 8   │ SepalLength │ 5.0   │ \"setosa\"    │\n",
       "│ 9   │ SepalLength │ 4.4   │ \"setosa\"    │\n",
       "│ 10  │ SepalLength │ 4.9   │ \"setosa\"    │\n",
       "│ 11  │ SepalLength │ 5.4   │ \"setosa\"    │\n",
       "⋮\n",
       "│ 739 │ id          │ 139.0 │ \"virginica\" │\n",
       "│ 740 │ id          │ 140.0 │ \"virginica\" │\n",
       "│ 741 │ id          │ 141.0 │ \"virginica\" │\n",
       "│ 742 │ id          │ 142.0 │ \"virginica\" │\n",
       "│ 743 │ id          │ 143.0 │ \"virginica\" │\n",
       "│ 744 │ id          │ 144.0 │ \"virginica\" │\n",
       "│ 745 │ id          │ 145.0 │ \"virginica\" │\n",
       "│ 746 │ id          │ 146.0 │ \"virginica\" │\n",
       "│ 747 │ id          │ 147.0 │ \"virginica\" │\n",
       "│ 748 │ id          │ 148.0 │ \"virginica\" │\n",
       "│ 749 │ id          │ 149.0 │ \"virginica\" │\n",
       "│ 750 │ id          │ 150.0 │ \"virginica\" │"
      ]
     },
     "execution_count": 18,
     "metadata": {},
     "output_type": "execute_result"
    }
   ],
   "source": [
    "iris_melt = melt(iris_dataframe, :Species)"
   ]
  },
  {
   "cell_type": "code",
   "execution_count": 19,
   "metadata": {},
   "outputs": [
    {
     "data": {
      "text/html": [
       "<table class=\"data-frame\"><thead><tr><th></th><th>variable</th><th>value</th><th>Species</th><th>id</th></tr></thead><tbody><tr><th>1</th><td>SepalLength</td><td>5.1</td><td>setosa</td><td>1</td></tr><tr><th>2</th><td>SepalLength</td><td>4.9</td><td>setosa</td><td>2</td></tr><tr><th>3</th><td>SepalLength</td><td>4.7</td><td>setosa</td><td>3</td></tr><tr><th>4</th><td>SepalLength</td><td>4.6</td><td>setosa</td><td>4</td></tr><tr><th>5</th><td>SepalLength</td><td>5.0</td><td>setosa</td><td>5</td></tr><tr><th>6</th><td>SepalLength</td><td>5.4</td><td>setosa</td><td>6</td></tr><tr><th>7</th><td>SepalLength</td><td>4.6</td><td>setosa</td><td>7</td></tr><tr><th>8</th><td>SepalLength</td><td>5.0</td><td>setosa</td><td>8</td></tr><tr><th>9</th><td>SepalLength</td><td>4.4</td><td>setosa</td><td>9</td></tr><tr><th>10</th><td>SepalLength</td><td>4.9</td><td>setosa</td><td>10</td></tr><tr><th>11</th><td>SepalLength</td><td>5.4</td><td>setosa</td><td>11</td></tr><tr><th>12</th><td>SepalLength</td><td>4.8</td><td>setosa</td><td>12</td></tr><tr><th>13</th><td>SepalLength</td><td>4.8</td><td>setosa</td><td>13</td></tr><tr><th>14</th><td>SepalLength</td><td>4.3</td><td>setosa</td><td>14</td></tr><tr><th>15</th><td>SepalLength</td><td>5.8</td><td>setosa</td><td>15</td></tr><tr><th>16</th><td>SepalLength</td><td>5.7</td><td>setosa</td><td>16</td></tr><tr><th>17</th><td>SepalLength</td><td>5.4</td><td>setosa</td><td>17</td></tr><tr><th>18</th><td>SepalLength</td><td>5.1</td><td>setosa</td><td>18</td></tr><tr><th>19</th><td>SepalLength</td><td>5.7</td><td>setosa</td><td>19</td></tr><tr><th>20</th><td>SepalLength</td><td>5.1</td><td>setosa</td><td>20</td></tr><tr><th>21</th><td>SepalLength</td><td>5.4</td><td>setosa</td><td>21</td></tr><tr><th>22</th><td>SepalLength</td><td>5.1</td><td>setosa</td><td>22</td></tr><tr><th>23</th><td>SepalLength</td><td>4.6</td><td>setosa</td><td>23</td></tr><tr><th>24</th><td>SepalLength</td><td>5.1</td><td>setosa</td><td>24</td></tr><tr><th>25</th><td>SepalLength</td><td>4.8</td><td>setosa</td><td>25</td></tr><tr><th>26</th><td>SepalLength</td><td>5.0</td><td>setosa</td><td>26</td></tr><tr><th>27</th><td>SepalLength</td><td>5.0</td><td>setosa</td><td>27</td></tr><tr><th>28</th><td>SepalLength</td><td>5.2</td><td>setosa</td><td>28</td></tr><tr><th>29</th><td>SepalLength</td><td>5.2</td><td>setosa</td><td>29</td></tr><tr><th>30</th><td>SepalLength</td><td>4.7</td><td>setosa</td><td>30</td></tr><tr><th>&vellip;</th><td>&vellip;</td><td>&vellip;</td><td>&vellip;</td><td>&vellip;</td></tr></tbody></table>"
      ],
      "text/plain": [
       "600×4 DataFrames.DataFrame\n",
       "│ Row │ variable    │ value │ Species     │ id  │\n",
       "├─────┼─────────────┼───────┼─────────────┼─────┤\n",
       "│ 1   │ SepalLength │ 5.1   │ \"setosa\"    │ 1   │\n",
       "│ 2   │ SepalLength │ 4.9   │ \"setosa\"    │ 2   │\n",
       "│ 3   │ SepalLength │ 4.7   │ \"setosa\"    │ 3   │\n",
       "│ 4   │ SepalLength │ 4.6   │ \"setosa\"    │ 4   │\n",
       "│ 5   │ SepalLength │ 5.0   │ \"setosa\"    │ 5   │\n",
       "│ 6   │ SepalLength │ 5.4   │ \"setosa\"    │ 6   │\n",
       "│ 7   │ SepalLength │ 4.6   │ \"setosa\"    │ 7   │\n",
       "│ 8   │ SepalLength │ 5.0   │ \"setosa\"    │ 8   │\n",
       "│ 9   │ SepalLength │ 4.4   │ \"setosa\"    │ 9   │\n",
       "│ 10  │ SepalLength │ 4.9   │ \"setosa\"    │ 10  │\n",
       "│ 11  │ SepalLength │ 5.4   │ \"setosa\"    │ 11  │\n",
       "⋮\n",
       "│ 589 │ PetalWidth  │ 1.8   │ \"virginica\" │ 139 │\n",
       "│ 590 │ PetalWidth  │ 2.1   │ \"virginica\" │ 140 │\n",
       "│ 591 │ PetalWidth  │ 2.4   │ \"virginica\" │ 141 │\n",
       "│ 592 │ PetalWidth  │ 2.3   │ \"virginica\" │ 142 │\n",
       "│ 593 │ PetalWidth  │ 1.9   │ \"virginica\" │ 143 │\n",
       "│ 594 │ PetalWidth  │ 2.3   │ \"virginica\" │ 144 │\n",
       "│ 595 │ PetalWidth  │ 2.5   │ \"virginica\" │ 145 │\n",
       "│ 596 │ PetalWidth  │ 2.3   │ \"virginica\" │ 146 │\n",
       "│ 597 │ PetalWidth  │ 1.9   │ \"virginica\" │ 147 │\n",
       "│ 598 │ PetalWidth  │ 2.0   │ \"virginica\" │ 148 │\n",
       "│ 599 │ PetalWidth  │ 2.3   │ \"virginica\" │ 149 │\n",
       "│ 600 │ PetalWidth  │ 1.8   │ \"virginica\" │ 150 │"
      ]
     },
     "execution_count": 19,
     "metadata": {},
     "output_type": "execute_result"
    }
   ],
   "source": [
    "iris_default_stack = stack(iris_dataframe)"
   ]
  },
  {
   "cell_type": "code",
   "execution_count": null,
   "metadata": {},
   "outputs": [],
   "source": []
  }
 ],
 "metadata": {
  "kernelspec": {
   "display_name": "Julia 0.6.0",
   "language": "julia",
   "name": "julia-0.6"
  },
  "language_info": {
   "file_extension": ".jl",
   "mimetype": "application/julia",
   "name": "julia",
   "version": "0.6.0"
  }
 },
 "nbformat": 4,
 "nbformat_minor": 2
}
