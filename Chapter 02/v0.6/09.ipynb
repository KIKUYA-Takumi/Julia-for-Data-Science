{
 "cells": [
  {
   "cell_type": "code",
   "execution_count": 1,
   "metadata": {},
   "outputs": [],
   "source": [
    "using DataFrames"
   ]
  },
  {
   "cell_type": "code",
   "execution_count": 2,
   "metadata": {},
   "outputs": [
    {
     "data": {
      "text/plain": [
       "6-element DataArrays.PooledDataArray{String,UInt32,1}:\n",
       " \"A\"\n",
       " \"A\"\n",
       " \"A\"\n",
       " \"B\"\n",
       " \"B\"\n",
       " \"B\""
      ]
     },
     "execution_count": 2,
     "metadata": {},
     "output_type": "execute_result"
    }
   ],
   "source": [
    "datavector = @data([\"A\", \"A\", \"A\",\"B\", \"B\", \"B\"])\n",
    "pooleddatavector = @pdata([\"A\", \"A\", \"A\",\"B\", \"B\", \"B\"])"
   ]
  },
  {
   "cell_type": "code",
   "execution_count": 3,
   "metadata": {},
   "outputs": [
    {
     "data": {
      "text/plain": [
       "2-element Array{String,1}:\n",
       " \"A\"\n",
       " \"B\""
      ]
     },
     "execution_count": 3,
     "metadata": {},
     "output_type": "execute_result"
    }
   ],
   "source": [
    "levels(pooleddatavector)"
   ]
  },
  {
   "cell_type": "code",
   "execution_count": 4,
   "metadata": {},
   "outputs": [
    {
     "data": {
      "text/plain": [
       "6-element DataArrays.PooledDataArray{String,UInt8,1}:\n",
       " \"A\"\n",
       " \"A\"\n",
       " \"A\"\n",
       " \"B\"\n",
       " \"B\"\n",
       " \"B\""
      ]
     },
     "execution_count": 4,
     "metadata": {},
     "output_type": "execute_result"
    }
   ],
   "source": [
    "pooleddatavector = compact(pooleddatavector)"
   ]
  },
  {
   "cell_type": "code",
   "execution_count": 5,
   "metadata": {},
   "outputs": [
    {
     "data": {
      "text/html": [
       "<table class=\"data-frame\"><thead><tr><th></th><th>A</th><th>B</th></tr></thead><tbody><tr><th>1</th><td>10</td><td>X</td></tr><tr><th>2</th><td>10</td><td>X</td></tr><tr><th>3</th><td>10</td><td>X</td></tr><tr><th>4</th><td>20</td><td>Y</td></tr><tr><th>5</th><td>20</td><td>Y</td></tr><tr><th>6</th><td>20</td><td>Y</td></tr></tbody></table>"
      ],
      "text/plain": [
       "6×2 DataFrames.DataFrame\n",
       "│ Row │ A  │ B   │\n",
       "├─────┼────┼─────┤\n",
       "│ 1   │ 10 │ \"X\" │\n",
       "│ 2   │ 10 │ \"X\" │\n",
       "│ 3   │ 10 │ \"X\" │\n",
       "│ 4   │ 20 │ \"Y\" │\n",
       "│ 5   │ 20 │ \"Y\" │\n",
       "│ 6   │ 20 │ \"Y\" │"
      ]
     },
     "execution_count": 5,
     "metadata": {},
     "output_type": "execute_result"
    }
   ],
   "source": [
    "dataframe_notpooled = DataFrame(A = [10, 10, 10, 20, 20, 20], B = [\"X\", \"X\", \"X\", \"Y\", \"Y\", \"Y\"])"
   ]
  },
  {
   "cell_type": "code",
   "execution_count": 6,
   "metadata": {},
   "outputs": [],
   "source": [
    "# not work. WIP\n",
    "pooleddf = pool!(dataframe_notpooled, [:A, :B])"
   ]
  },
  {
   "cell_type": "code",
   "execution_count": 14,
   "metadata": {},
   "outputs": [],
   "source": []
  },
  {
   "cell_type": "code",
   "execution_count": null,
   "metadata": {},
   "outputs": [],
   "source": []
  }
 ],
 "metadata": {
  "kernelspec": {
   "display_name": "Julia 0.6.0",
   "language": "julia",
   "name": "julia-0.6"
  },
  "language_info": {
   "file_extension": ".jl",
   "mimetype": "application/julia",
   "name": "julia",
   "version": "0.6.0"
  }
 },
 "nbformat": 4,
 "nbformat_minor": 2
}
