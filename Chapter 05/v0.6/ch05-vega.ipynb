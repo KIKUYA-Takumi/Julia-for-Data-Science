{
 "cells": [
  {
   "cell_type": "code",
   "execution_count": null,
   "metadata": {},
   "outputs": [],
   "source": [
    "using Vega"
   ]
  },
  {
   "cell_type": "code",
   "execution_count": null,
   "metadata": {},
   "outputs": [],
   "source": [
    "scatterplot(x = rand(100), y = rand(100))\n"
   ]
  },
  {
   "cell_type": "code",
   "execution_count": null,
   "metadata": {},
   "outputs": [],
   "source": [
    "using Vega, Distributions"
   ]
  },
  {
   "cell_type": "code",
   "execution_count": null,
   "metadata": {},
   "outputs": [],
   "source": [
    "d1 = MultivariateNormal([0.0, 0.0], [1.0 0.9; 0.9 1.0])\n",
    "d2 = MultivariateNormal([10.0, 10.0], [4.0 0.5; 0.5 4.0])\n",
    "points = vcat(rand(d1, 500)', rand(d2, 500)')"
   ]
  },
  {
   "cell_type": "code",
   "execution_count": null,
   "metadata": {},
   "outputs": [],
   "source": [
    "x = points[:, 1]\n",
    "y = points[:, 2]\n",
    "group = vcat(ones(Int, 500), ones(Int, 500) + 1)"
   ]
  },
  {
   "cell_type": "code",
   "execution_count": null,
   "metadata": {},
   "outputs": [],
   "source": [
    "scatterplot(x = x, y = y, group = group)"
   ]
  },
  {
   "cell_type": "code",
   "execution_count": null,
   "metadata": {},
   "outputs": [],
   "source": [
    "x = [0,1,2,3,4,5,6,7,8,9,0,1,2,3,4,5,6,7,8,9]\n",
    "y = [28, 43, 81, 19, 52, 24, 87, 17, 68, 49, 55, 91, 53, 87, 48, 49, 66, 27, 16, 15]\n",
    "g = [0,0,0,0,0,0,0,0,0,0,1,1,1,1,1,1,1,1,1,1]"
   ]
  },
  {
   "cell_type": "code",
   "execution_count": null,
   "metadata": {},
   "outputs": [],
   "source": [
    "a = areaplot(x = x, y = y, group = g, stacked = true)"
   ]
  },
  {
   "cell_type": "code",
   "execution_count": null,
   "metadata": {},
   "outputs": [],
   "source": [
    "fruit = [\"peaches\", \"plums\", \"blueberries\", \"strawberries\", \"bananas\"];\n",
    "bushels = [100, 32, 180, 46, 21];\n",
    "piechart(x = fruit, y = bushels, holesize = 125)"
   ]
  },
  {
   "cell_type": "code",
   "execution_count": null,
   "metadata": {},
   "outputs": [],
   "source": [
    "x = Array(Int, 900)\n",
    "y = Array(Int, 900)\n",
    "color = Array(Float64, 900)\n",
    "tmp = 0\n",
    "for counter in 1:30\n",
    "    for counter2 in 1:30\n",
    "        tmp += 1\n",
    "        x[tmp] = counter\n",
    "        y[tmp] = counter2\n",
    "        color[tmp] = rand()\n",
    "    end\n",
    "end\n",
    "hm = heatmap(x = x, y = y, color = color)"
   ]
  }
 ],
 "metadata": {
  "kernelspec": {
   "display_name": "Julia 0.6.0",
   "language": "julia",
   "name": "julia-0.6"
  },
  "language_info": {
   "file_extension": ".jl",
   "mimetype": "application/julia",
   "name": "julia",
   "version": "0.6.0"
  }
 },
 "nbformat": 4,
 "nbformat_minor": 2
}
